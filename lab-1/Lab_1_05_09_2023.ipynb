{
  "cells": [
    {
      "cell_type": "markdown",
      "metadata": {
        "colab_type": "text",
        "id": "view-in-github"
      },
      "source": [
        "<a href=\"https://colab.research.google.com/github/vutung3196/COMP-479-Lab/blob/main/Lab_1_05_09_2023.ipynb\" target=\"_parent\"><img src=\"https://colab.research.google.com/assets/colab-badge.svg\" alt=\"Open In Colab\"/></a>"
      ]
    },
    {
      "cell_type": "code",
      "execution_count": 5,
      "metadata": {
        "id": "pxApyZTuGXOW"
      },
      "outputs": [],
      "source": [
        "import nltk\n",
        "from nltk.corpus import reuters"
      ]
    },
    {
      "cell_type": "code",
      "execution_count": 6,
      "metadata": {
        "colab": {
          "base_uri": "https://localhost:8080/"
        },
        "id": "0dBaXa6HGiW8",
        "outputId": "8ed3e4c7-ed73-4e4e-d98e-0cd703f0e6f2"
      },
      "outputs": [
        {
          "name": "stderr",
          "output_type": "stream",
          "text": [
            "[nltk_data] Downloading package reuters to C:\\Users\\Tung\n",
            "[nltk_data]     Vu\\AppData\\Roaming\\nltk_data...\n",
            "[nltk_data]   Package reuters is already up-to-date!\n",
            "[nltk_data] Downloading package punkt to C:\\Users\\Tung\n",
            "[nltk_data]     Vu\\AppData\\Roaming\\nltk_data...\n",
            "[nltk_data]   Package punkt is already up-to-date!\n"
          ]
        },
        {
          "data": {
            "text/plain": [
              "True"
            ]
          },
          "execution_count": 6,
          "metadata": {},
          "output_type": "execute_result"
        }
      ],
      "source": [
        "nltk.download('reuters')\n",
        "nltk.download('punkt')"
      ]
    },
    {
      "cell_type": "code",
      "execution_count": 7,
      "metadata": {
        "colab": {
          "base_uri": "https://localhost:8080/"
        },
        "id": "WppoP60hGjoQ",
        "outputId": "2d99edf7-d4e9-4d75-f46d-5e088c4752db"
      },
      "outputs": [
        {
          "name": "stdout",
          "output_type": "stream",
          "text": [
            "1. How many documents are there in the Reuters Corpus?\n",
            "10788\n"
          ]
        }
      ],
      "source": [
        "# 1. How many documents are there in the Reuters Corpus?\n",
        "print(\"1. How many documents are there in the Reuters Corpus?\")\n",
        "print(len(reuters.fileids()))"
      ]
    },
    {
      "cell_type": "code",
      "execution_count": 8,
      "metadata": {
        "colab": {
          "base_uri": "https://localhost:8080/"
        },
        "id": "q9bTtP_sGldh",
        "outputId": "e4aadf7b-46a3-4611-8262-f117ae8d1533"
      },
      "outputs": [
        {
          "name": "stdout",
          "output_type": "stream",
          "text": [
            "2. How many words are there in the entire corpus?\n",
            "1720901\n"
          ]
        }
      ],
      "source": [
        "# 2. How many words are there in the entire corpus?\n",
        "print(\"2. How many words are there in the entire corpus?\")\n",
        "print(len(reuters.words()))"
      ]
    },
    {
      "cell_type": "code",
      "execution_count": 9,
      "metadata": {
        "colab": {
          "base_uri": "https://localhost:8080/"
        },
        "id": "EPNk5bdXGnBH",
        "outputId": "1d0b8238-4665-4236-a345-3a2140b628a3"
      },
      "outputs": [
        {
          "name": "stdout",
          "output_type": "stream",
          "text": [
            "3. How many sentences are there in the entire corpus?\n",
            "54716\n"
          ]
        }
      ],
      "source": [
        "# 3. How many sentences are there in the entire corpus?\n",
        "print(\"3. How many sentences are there in the entire corpus?\")\n",
        "print(len(reuters.sents()))"
      ]
    },
    {
      "cell_type": "code",
      "execution_count": 10,
      "metadata": {
        "colab": {
          "base_uri": "https://localhost:8080/"
        },
        "id": "M0cM5d3_GoTF",
        "outputId": "4e7c3503-11ba-4e07-8fd8-784ce95fbf5f"
      },
      "outputs": [
        {
          "name": "stdout",
          "output_type": "stream",
          "text": [
            "4. Find the text with fileID 'training/9920' in the corpus. Determine the number of words.\n",
            "71\n"
          ]
        }
      ],
      "source": [
        "# 4. Find the text with fileID 'training/9920' in the corpus. Determine the number of words.\n",
        "print(\"4. Find the text with fileID 'training/9920' in the corpus. Determine the number of words.\")\n",
        "print(len(reuters.words('training/9920')))"
      ]
    },
    {
      "cell_type": "code",
      "execution_count": 11,
      "metadata": {
        "colab": {
          "base_uri": "https://localhost:8080/"
        },
        "id": "qW8RAo-8GzIY",
        "outputId": "8d09b897-b374-4d99-bbf9-9d973c20b5b1"
      },
      "outputs": [
        {
          "name": "stdout",
          "output_type": "stream",
          "text": [
            "5. Determine the number of single word prepositions (e.g. 'in', 'on', 'at') in the entire corpus.\n"
          ]
        }
      ],
      "source": [
        "# 5. Determine the number of single word prepositions (e.g. 'in', 'on', 'at') in the entire corpus.\n",
        "print(\"5. Determine the number of single word prepositions (e.g. 'in', 'on', 'at') in the entire corpus.\")\n",
        "# most common prepositions in English\n",
        "prepositions = ['of', 'in', 'to', 'for', 'with', 'on', 'at', 'from', 'by', 'about', 'as', 'into', 'like', 'through', 'after', 'over', 'between', 'out', 'against', 'during', 'without', 'before', 'under', 'around', 'among']\n",
        "prepositions_count = 0\n",
        "for word in reuters.words():\n",
        "    if word in prepositions:\n",
        "        prepositions_count += 1"
      ]
    },
    {
      "cell_type": "code",
      "execution_count": 12,
      "metadata": {
        "colab": {
          "base_uri": "https://localhost:8080/"
        },
        "id": "uJPWf1JDG2-n",
        "outputId": "2404e778-59f1-48c9-8450-ab8bf529723b"
      },
      "outputs": [
        {
          "data": {
            "text/plain": [
              "164212"
            ]
          },
          "execution_count": 12,
          "metadata": {},
          "output_type": "execute_result"
        }
      ],
      "source": [
        "prepositions_count"
      ]
    },
    {
      "cell_type": "code",
      "execution_count": 13,
      "metadata": {
        "id": "fEfjFd3HG42r"
      },
      "outputs": [],
      "source": [
        "def word_freq(word, fileId):\n",
        "    count = 0\n",
        "    for w in reuters.words(fileId):\n",
        "        if w == word:\n",
        "            count += 1\n",
        "    return count"
      ]
    },
    {
      "cell_type": "code",
      "execution_count": 14,
      "metadata": {
        "colab": {
          "base_uri": "https://localhost:8080/"
        },
        "id": "XB4uqM_gHkIS",
        "outputId": "2eca24ef-c74f-4740-accb-c0dc525fc5f0"
      },
      "outputs": [
        {
          "data": {
            "text/plain": [
              "1"
            ]
          },
          "execution_count": 14,
          "metadata": {},
          "output_type": "execute_result"
        }
      ],
      "source": [
        "word_freq('CONTEL', 'training/9920')"
      ]
    },
    {
      "cell_type": "code",
      "execution_count": 15,
      "metadata": {
        "colab": {
          "base_uri": "https://localhost:8080/"
        },
        "id": "mR9o3f5QLTMT",
        "outputId": "1e20fbf5-0b45-46ee-86d8-1c22816ad392"
      },
      "outputs": [
        {
          "name": "stdout",
          "output_type": "stream",
          "text": [
            "6. Use Regex to replace > with '' in the text with fileID 'training/9920'. Output the text after preprocessing.\n",
            "CONTEL &lt;CTC TO BUY WALKER COUNTY TELEPHONE\n",
            "  Contel Corp said it has agreed in\n",
            "  principle to acquire &lt;Walker County Telephone Co of LaFayette,\n",
            "  Ga., for an undisclosed amount of common stock.\n",
            "      Walker has 7,600 customers in northeast Georgia.\n",
            "      The company said the agreement is subject to approval by\n",
            "  regulatory agencies, both boards and Walker shareholders.\n",
            "  \n",
            "\n",
            "\n"
          ]
        }
      ],
      "source": [
        "print(\"6. Use Regex to replace > with '' in the text with fileID 'training/9920'. Output the text after preprocessing.\")\n",
        "text = reuters.raw('training/9920')\n",
        "text = text.replace('>', '')\n",
        "print(text)"
      ]
    }
  ],
  "metadata": {
    "colab": {
      "authorship_tag": "ABX9TyOjGVPs2tjKkRMRSR1frfav",
      "include_colab_link": true,
      "provenance": []
    },
    "kernelspec": {
      "display_name": "Python 3",
      "name": "python3"
    },
    "language_info": {
      "codemirror_mode": {
        "name": "ipython",
        "version": 3
      },
      "file_extension": ".py",
      "mimetype": "text/x-python",
      "name": "python",
      "nbconvert_exporter": "python",
      "pygments_lexer": "ipython3",
      "version": "3.11.5"
    }
  },
  "nbformat": 4,
  "nbformat_minor": 0
}
